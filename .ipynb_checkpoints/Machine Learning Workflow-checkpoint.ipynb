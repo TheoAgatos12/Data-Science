{
 "cells": [
  {
   "cell_type": "markdown",
   "id": "sized-ethiopia",
   "metadata": {},
   "source": [
    "# 03 Machine Learning Workflow dengan Scikit Learn"
   ]
  },
  {
   "cell_type": "markdown",
   "id": "honey-afternoon",
   "metadata": {},
   "source": [
    "## Persiapan Dataset"
   ]
  },
  {
   "cell_type": "markdown",
   "id": "comprehensive-patent",
   "metadata": {},
   "source": [
    "#### Load Sample Dataset: Iris Dataset"
   ]
  },
  {
   "cell_type": "code",
   "execution_count": 1,
   "id": "other-upgrade",
   "metadata": {},
   "outputs": [],
   "source": [
    "from sklearn.datasets import load_iris\n",
    "\n",
    "iris = load_iris()\n",
    "\n",
    "X = iris.data\n",
    "y = iris.target"
   ]
  },
  {
   "cell_type": "markdown",
   "id": "stone-incidence",
   "metadata": {},
   "source": [
    "- Variabel X untuk menampung nilai features\n",
    "- Variabel y untuk menampung nilai target"
   ]
  },
  {
   "cell_type": "markdown",
   "id": "tracked-taylor",
   "metadata": {},
   "source": [
    "#### Splitting Dataset: Training & Testing Set"
   ]
  },
  {
   "cell_type": "code",
   "execution_count": 2,
   "id": "regulated-matter",
   "metadata": {},
   "outputs": [],
   "source": [
    "from sklearn.model_selection import train_test_split\n",
    "\n",
    "X_train, X_test, y_train, y_test = train_test_split(X,\n",
    "                                                    y,\n",
    "                                                    test_size=0.4,\n",
    "                                                    random_state=1)"
   ]
  },
  {
   "cell_type": "markdown",
   "id": "effective-level",
   "metadata": {},
   "source": [
    "- Parameter X adalah sekumpulan nilai features\n",
    "- Parameter y adalah sekumpulan nilai target\n",
    "- Parameter test adalah ukuran dari testing set\n",
    "- test_size=0.4 berarti testing set memiliki 40% dari total keseluruhan dataset\n",
    "- training set akan menempati proporsi 60%\n",
    "- random_state=1 digunakan untuk proses pengacakan"
   ]
  },
  {
   "cell_type": "markdown",
   "id": "tender-parade",
   "metadata": {},
   "source": [
    "## Training Model"
   ]
  },
  {
   "cell_type": "markdown",
   "id": "excess-parker",
   "metadata": {},
   "source": [
    "- Pada Scikit Learn, model machine learning dibentuk dari class yang dikenal dengan istilah estimator.\n",
    "- Setiap estimator akan mengimplementasikan dua method utama, yaitu fit() dan predict().\n",
    "- Method fit() digunakan untuk melakukan training model.\n",
    "- Method predict() digunakan untuk melakukan estimasi/prediksi dengan memanfaatkan trained model."
   ]
  },
  {
   "cell_type": "code",
   "execution_count": 4,
   "id": "clear-hamilton",
   "metadata": {},
   "outputs": [
    {
     "data": {
      "text/plain": [
       "KNeighborsClassifier(n_neighbors=3)"
      ]
     },
     "execution_count": 4,
     "metadata": {},
     "output_type": "execute_result"
    }
   ],
   "source": [
    "from sklearn.neighbors import KNeighborsClassifier\n",
    "\n",
    "model = KNeighborsClassifier(n_neighbors=3)\n",
    "model.fit(X_train, y_train)"
   ]
  },
  {
   "cell_type": "markdown",
   "id": "double-moldova",
   "metadata": {},
   "source": [
    "- KNeighborsClassifier sebagai Machine Learning Model\n",
    "- objek model ditraining dengan menggunakan method fit (model.fit)"
   ]
  },
  {
   "cell_type": "markdown",
   "id": "worth-wholesale",
   "metadata": {},
   "source": [
    "## Evaluasi Model"
   ]
  },
  {
   "cell_type": "code",
   "execution_count": 5,
   "id": "streaming-integrity",
   "metadata": {},
   "outputs": [
    {
     "name": "stdout",
     "output_type": "stream",
     "text": [
      "Accuracy: 0.9833333333333333\n"
     ]
    }
   ],
   "source": [
    "from sklearn.metrics import accuracy_score\n",
    "\n",
    "y_pred = model.predict(X_test)\n",
    "acc = accuracy_score(y_test, y_pred)\n",
    "print(f'Accuracy: {acc}')"
   ]
  },
  {
   "cell_type": "markdown",
   "id": "narrative-costs",
   "metadata": {},
   "source": [
    "- accuracy sebagai matrix untuk proses evaluasi\n",
    "- variabel y_pred menampung hasil prediksi\n",
    "- Proses evaluasi membandingkan nilai target yang terdapat pada variabel y_test dibandingkan dengan nilai prediksi yang ditampung ke dalam variabel y_pred"
   ]
  },
  {
   "cell_type": "markdown",
   "id": "joined-packing",
   "metadata": {},
   "source": [
    "## Pemanfaatan Trained Model"
   ]
  },
  {
   "cell_type": "code",
   "execution_count": 6,
   "id": "protective-oasis",
   "metadata": {},
   "outputs": [
    {
     "data": {
      "text/plain": [
       "array([1, 2])"
      ]
     },
     "execution_count": 6,
     "metadata": {},
     "output_type": "execute_result"
    }
   ],
   "source": [
    "data_baru = [[5, 5, 3, 2], \n",
    "             [2, 4, 3, 5]]\n",
    "\n",
    "preds =  model.predict(data_baru)\n",
    "preds"
   ]
  },
  {
   "cell_type": "markdown",
   "id": "functional-bidder",
   "metadata": {},
   "source": [
    "- Terdiri dari 2 baris\n",
    "- Setiap baris terbagi dalam 4 nilai feature\n",
    "- variabel preds untuk menampung hasil prediksi\n",
    "- Baris 1 diprediksi memiliki nilai target 1\n",
    "- Baris 2 diprediksi memiliki nilai target 2"
   ]
  },
  {
   "cell_type": "code",
   "execution_count": 7,
   "id": "curious-intro",
   "metadata": {},
   "outputs": [
    {
     "name": "stdout",
     "output_type": "stream",
     "text": [
      "Hasil Prediksi: ['versicolor', 'virginica']\n"
     ]
    }
   ],
   "source": [
    "pred_species = [iris.target_names[p] for p in preds] \n",
    "print(f'Hasil Prediksi: {pred_species}')"
   ]
  },
  {
   "cell_type": "markdown",
   "id": "bigger-closure",
   "metadata": {},
   "source": [
    "- Baris 1 diprediksi masuk dalam kategori versicolor\n",
    "- Baris 2 diprediksi masuk dalam kategori verginica"
   ]
  },
  {
   "cell_type": "markdown",
   "id": "sitting-reading",
   "metadata": {},
   "source": [
    "## Dump & Load Trained Model"
   ]
  },
  {
   "cell_type": "markdown",
   "id": "modern-football",
   "metadata": {},
   "source": [
    "#### Dumping Model Machine Learning menjadi file joblib"
   ]
  },
  {
   "cell_type": "code",
   "execution_count": 8,
   "id": "mexican-national",
   "metadata": {},
   "outputs": [
    {
     "data": {
      "text/plain": [
       "['iris_classifier_knn.joblib']"
      ]
     },
     "execution_count": 8,
     "metadata": {},
     "output_type": "execute_result"
    }
   ],
   "source": [
    "import joblib\n",
    "\n",
    "joblib.dump(model, 'iris_classifier_knn.joblib')"
   ]
  },
  {
   "cell_type": "markdown",
   "id": "boring-authority",
   "metadata": {},
   "source": [
    "- Proses joblib membutuhkan 2 parameter\n",
    "- Parameter pertama adalah train model yang akan di dump\n",
    "- Parameter kedua adalah nama file joblib\n",
    "- Selanjutnya menempatkan file joblib ke server yang ada di production"
   ]
  },
  {
   "cell_type": "markdown",
   "id": "structured-canadian",
   "metadata": {},
   "source": [
    "#### Loading Model Machine Learning dari file joblib"
   ]
  },
  {
   "cell_type": "code",
   "execution_count": 9,
   "id": "large-musician",
   "metadata": {},
   "outputs": [],
   "source": [
    "production_model = joblib.load('iris_classifier_knn.joblib')"
   ]
  },
  {
   "cell_type": "markdown",
   "id": "academic-kentucky",
   "metadata": {},
   "source": []
  }
 ],
 "metadata": {
  "kernelspec": {
   "display_name": "Python 3",
   "language": "python",
   "name": "python3"
  },
  "language_info": {
   "codemirror_mode": {
    "name": "ipython",
    "version": 3
   },
   "file_extension": ".py",
   "mimetype": "text/x-python",
   "name": "python",
   "nbconvert_exporter": "python",
   "pygments_lexer": "ipython3",
   "version": "3.8.8"
  }
 },
 "nbformat": 4,
 "nbformat_minor": 5
}
