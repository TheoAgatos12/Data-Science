{
 "cells": [
  {
   "cell_type": "markdown",
   "id": "latter-petroleum",
   "metadata": {},
   "source": [
    "# Mengenal Categorical Encoding: Label Encoding & One Hot Encoding"
   ]
  },
  {
   "cell_type": "markdown",
   "id": "distinct-rough",
   "metadata": {},
   "source": [
    "## Apa itu Categorical Encoding?"
   ]
  },
  {
   "cell_type": "markdown",
   "id": "cloudy-video",
   "metadata": {},
   "source": [
    "Categorical Encoding adalah proses konversi nilai categorical menjadi nilai numerical.\n",
    "\n",
    "Terdapat banyak jenis Categorical Encoding, dua di antaranya adalah:\n",
    "\n",
    "- Label Encoding\n",
    "- One Hot Encoding\n",
    "\n",
    "Referensi: https://en.wikipedia.org/wiki/One-hot"
   ]
  },
  {
   "cell_type": "markdown",
   "id": "martial-president",
   "metadata": {},
   "source": [
    "## Label Encoding"
   ]
  },
  {
   "cell_type": "markdown",
   "id": "continental-employee",
   "metadata": {},
   "source": [
    "Pada Label Encoding, setiap kategori pada suatu feature akan diurutkan secara alfabet dan direpresentasikan dengan sebuah nilai integer."
   ]
  },
  {
   "cell_type": "markdown",
   "id": "undefined-business",
   "metadata": {},
   "source": [
    "### Dataset"
   ]
  },
  {
   "cell_type": "code",
   "execution_count": 1,
   "id": "aerial-webmaster",
   "metadata": {},
   "outputs": [
    {
     "data": {
      "text/html": [
       "<div>\n",
       "<style scoped>\n",
       "    .dataframe tbody tr th:only-of-type {\n",
       "        vertical-align: middle;\n",
       "    }\n",
       "\n",
       "    .dataframe tbody tr th {\n",
       "        vertical-align: top;\n",
       "    }\n",
       "\n",
       "    .dataframe thead th {\n",
       "        text-align: right;\n",
       "    }\n",
       "</style>\n",
       "<table border=\"1\" class=\"dataframe\">\n",
       "  <thead>\n",
       "    <tr style=\"text-align: right;\">\n",
       "      <th></th>\n",
       "      <th>country</th>\n",
       "      <th>age</th>\n",
       "      <th>salary</th>\n",
       "    </tr>\n",
       "  </thead>\n",
       "  <tbody>\n",
       "    <tr>\n",
       "      <th>0</th>\n",
       "      <td>India</td>\n",
       "      <td>44</td>\n",
       "      <td>72000</td>\n",
       "    </tr>\n",
       "    <tr>\n",
       "      <th>1</th>\n",
       "      <td>US</td>\n",
       "      <td>34</td>\n",
       "      <td>65000</td>\n",
       "    </tr>\n",
       "    <tr>\n",
       "      <th>2</th>\n",
       "      <td>Japan</td>\n",
       "      <td>46</td>\n",
       "      <td>98000</td>\n",
       "    </tr>\n",
       "    <tr>\n",
       "      <th>3</th>\n",
       "      <td>US</td>\n",
       "      <td>35</td>\n",
       "      <td>45000</td>\n",
       "    </tr>\n",
       "    <tr>\n",
       "      <th>4</th>\n",
       "      <td>Japan</td>\n",
       "      <td>23</td>\n",
       "      <td>34000</td>\n",
       "    </tr>\n",
       "  </tbody>\n",
       "</table>\n",
       "</div>"
      ],
      "text/plain": [
       "  country  age  salary\n",
       "0   India   44   72000\n",
       "1      US   34   65000\n",
       "2   Japan   46   98000\n",
       "3      US   35   45000\n",
       "4   Japan   23   34000"
      ]
     },
     "execution_count": 1,
     "metadata": {},
     "output_type": "execute_result"
    }
   ],
   "source": [
    "import pandas as pd\n",
    "\n",
    "df = pd.DataFrame({\n",
    "    'country': ['India', 'US', 'Japan', 'US', 'Japan'],\n",
    "    'age': [44, 34, 46, 35, 23],\n",
    "    'salary': [72000, 65000, 98000, 45000, 34000]\n",
    "})\n",
    "\n",
    "df"
   ]
  },
  {
   "cell_type": "markdown",
   "id": "polished-dating",
   "metadata": {},
   "source": [
    "- Terdapat 3 buah keys yang akan merepresentasikan 3 buah kolom ('country', 'age', 'salary')\n",
    "- variabel df menampung objek dataframe \n",
    "- kolom country merupakan nilai category count"
   ]
  },
  {
   "cell_type": "markdown",
   "id": "cooked-blowing",
   "metadata": {},
   "source": [
    "### Label Encoding pada Scikit Learn"
   ]
  },
  {
   "cell_type": "code",
   "execution_count": 2,
   "id": "cordless-proxy",
   "metadata": {},
   "outputs": [
    {
     "data": {
      "text/html": [
       "<div>\n",
       "<style scoped>\n",
       "    .dataframe tbody tr th:only-of-type {\n",
       "        vertical-align: middle;\n",
       "    }\n",
       "\n",
       "    .dataframe tbody tr th {\n",
       "        vertical-align: top;\n",
       "    }\n",
       "\n",
       "    .dataframe thead th {\n",
       "        text-align: right;\n",
       "    }\n",
       "</style>\n",
       "<table border=\"1\" class=\"dataframe\">\n",
       "  <thead>\n",
       "    <tr style=\"text-align: right;\">\n",
       "      <th></th>\n",
       "      <th>country</th>\n",
       "      <th>age</th>\n",
       "      <th>salary</th>\n",
       "    </tr>\n",
       "  </thead>\n",
       "  <tbody>\n",
       "    <tr>\n",
       "      <th>0</th>\n",
       "      <td>0</td>\n",
       "      <td>44</td>\n",
       "      <td>72000</td>\n",
       "    </tr>\n",
       "    <tr>\n",
       "      <th>1</th>\n",
       "      <td>2</td>\n",
       "      <td>34</td>\n",
       "      <td>65000</td>\n",
       "    </tr>\n",
       "    <tr>\n",
       "      <th>2</th>\n",
       "      <td>1</td>\n",
       "      <td>46</td>\n",
       "      <td>98000</td>\n",
       "    </tr>\n",
       "    <tr>\n",
       "      <th>3</th>\n",
       "      <td>2</td>\n",
       "      <td>35</td>\n",
       "      <td>45000</td>\n",
       "    </tr>\n",
       "    <tr>\n",
       "      <th>4</th>\n",
       "      <td>1</td>\n",
       "      <td>23</td>\n",
       "      <td>34000</td>\n",
       "    </tr>\n",
       "  </tbody>\n",
       "</table>\n",
       "</div>"
      ],
      "text/plain": [
       "   country  age  salary\n",
       "0        0   44   72000\n",
       "1        2   34   65000\n",
       "2        1   46   98000\n",
       "3        2   35   45000\n",
       "4        1   23   34000"
      ]
     },
     "execution_count": 2,
     "metadata": {},
     "output_type": "execute_result"
    }
   ],
   "source": [
    "from sklearn.preprocessing import LabelEncoder\n",
    "\n",
    "label_encoder = LabelEncoder()\n",
    "df['country'] = label_encoder.fit_transform(df['country'])\n",
    "df"
   ]
  },
  {
   "cell_type": "markdown",
   "id": "mature-substitute",
   "metadata": {},
   "source": [
    "- variabel label_encoder menampungg objek LabelEncoder()\n",
    "- LabelEncoder() akan digunakan untuk proses fit transform terhadap kolom country\n",
    "- Hasil fit transform akan ditampung kedalam kolom country "
   ]
  },
  {
   "cell_type": "code",
   "execution_count": 3,
   "id": "classified-substance",
   "metadata": {},
   "outputs": [
    {
     "data": {
      "text/plain": [
       "array(['India', 'Japan', 'US'], dtype=object)"
      ]
     },
     "execution_count": 3,
     "metadata": {},
     "output_type": "execute_result"
    }
   ],
   "source": [
    "label_encoder.classes_"
   ]
  },
  {
   "cell_type": "markdown",
   "id": "governmental-rachel",
   "metadata": {},
   "source": [
    "- India akan direpresentasikan sebagai integer 0\n",
    "- Japan akan direpresentasikan sebagai integer 1\n",
    "- US akan direpresentasikan sebagai integer 2"
   ]
  },
  {
   "cell_type": "markdown",
   "id": "complimentary-cleanup",
   "metadata": {},
   "source": [
    "## One Hot Encoding"
   ]
  },
  {
   "cell_type": "markdown",
   "id": "invisible-pricing",
   "metadata": {},
   "source": [
    "Pada One Hot Encoding, setiap kategori pada suatu feature akan diurutkan secara alfabet dan direpresentasikan sebagai sekumpulan bits."
   ]
  },
  {
   "cell_type": "markdown",
   "id": "labeled-atlas",
   "metadata": {},
   "source": [
    "### Dataset"
   ]
  },
  {
   "cell_type": "code",
   "execution_count": 4,
   "id": "pretty-phase",
   "metadata": {},
   "outputs": [
    {
     "data": {
      "text/html": [
       "<div>\n",
       "<style scoped>\n",
       "    .dataframe tbody tr th:only-of-type {\n",
       "        vertical-align: middle;\n",
       "    }\n",
       "\n",
       "    .dataframe tbody tr th {\n",
       "        vertical-align: top;\n",
       "    }\n",
       "\n",
       "    .dataframe thead th {\n",
       "        text-align: right;\n",
       "    }\n",
       "</style>\n",
       "<table border=\"1\" class=\"dataframe\">\n",
       "  <thead>\n",
       "    <tr style=\"text-align: right;\">\n",
       "      <th></th>\n",
       "      <th>country</th>\n",
       "      <th>age</th>\n",
       "      <th>salary</th>\n",
       "    </tr>\n",
       "  </thead>\n",
       "  <tbody>\n",
       "    <tr>\n",
       "      <th>0</th>\n",
       "      <td>India</td>\n",
       "      <td>44</td>\n",
       "      <td>72000</td>\n",
       "    </tr>\n",
       "    <tr>\n",
       "      <th>1</th>\n",
       "      <td>US</td>\n",
       "      <td>34</td>\n",
       "      <td>65000</td>\n",
       "    </tr>\n",
       "    <tr>\n",
       "      <th>2</th>\n",
       "      <td>Japan</td>\n",
       "      <td>46</td>\n",
       "      <td>98000</td>\n",
       "    </tr>\n",
       "    <tr>\n",
       "      <th>3</th>\n",
       "      <td>US</td>\n",
       "      <td>35</td>\n",
       "      <td>45000</td>\n",
       "    </tr>\n",
       "    <tr>\n",
       "      <th>4</th>\n",
       "      <td>Japan</td>\n",
       "      <td>23</td>\n",
       "      <td>34000</td>\n",
       "    </tr>\n",
       "  </tbody>\n",
       "</table>\n",
       "</div>"
      ],
      "text/plain": [
       "  country  age  salary\n",
       "0   India   44   72000\n",
       "1      US   34   65000\n",
       "2   Japan   46   98000\n",
       "3      US   35   45000\n",
       "4   Japan   23   34000"
      ]
     },
     "execution_count": 4,
     "metadata": {},
     "output_type": "execute_result"
    }
   ],
   "source": [
    "df = pd.DataFrame({\n",
    "    'country': ['India', 'US', 'Japan', 'US', 'Japan'],\n",
    "    'age': [44, 34, 46, 35, 23],\n",
    "    'salary': [72000, 65000, 98000, 45000, 34000]\n",
    "})\n",
    "\n",
    "df"
   ]
  },
  {
   "cell_type": "markdown",
   "id": "executed-connectivity",
   "metadata": {},
   "source": [
    "### One Hot Encoding pada Scikit Learn"
   ]
  },
  {
   "cell_type": "code",
   "execution_count": 5,
   "id": "solar-receptor",
   "metadata": {},
   "outputs": [
    {
     "data": {
      "text/plain": [
       "array([['India'],\n",
       "       ['US'],\n",
       "       ['Japan'],\n",
       "       ['US'],\n",
       "       ['Japan']], dtype=object)"
      ]
     },
     "execution_count": 5,
     "metadata": {},
     "output_type": "execute_result"
    }
   ],
   "source": [
    "X = df['country'].values.reshape(-1,1)\n",
    "X"
   ]
  },
  {
   "cell_type": "markdown",
   "id": "african-oriental",
   "metadata": {},
   "source": [
    "- reshape(-1,1) digunakan karena sekumpulan nilai akan digunakan sebagai features\n",
    "- df['country'].values.reshape(-1,1) untuk mengkoversikan menjadi sebuah array\n",
    "- variabel X menampung nilai array"
   ]
  },
  {
   "cell_type": "code",
   "execution_count": 6,
   "id": "indonesian-singles",
   "metadata": {},
   "outputs": [
    {
     "data": {
      "text/plain": [
       "array([[1., 0., 0.],\n",
       "       [0., 0., 1.],\n",
       "       [0., 1., 0.],\n",
       "       [0., 0., 1.],\n",
       "       [0., 1., 0.]])"
      ]
     },
     "execution_count": 6,
     "metadata": {},
     "output_type": "execute_result"
    }
   ],
   "source": [
    "from sklearn.preprocessing import OneHotEncoder\n",
    "\n",
    "onehot_encoder = OneHotEncoder()\n",
    "X = onehot_encoder.fit_transform(X).toarray()\n",
    "X"
   ]
  },
  {
   "cell_type": "markdown",
   "id": "dramatic-ratio",
   "metadata": {},
   "source": [
    "- Variabel onehot_encoder menampung objek OneHotEncoder()\n",
    "- OneHotEncoder() akan digunakan untuk proses fit transform terhadap X\n",
    "- Hasil fit transform akan dikonversikan menjadi array dan kemudian ditampung kedalam variabel X"
   ]
  },
  {
   "cell_type": "code",
   "execution_count": 7,
   "id": "spiritual-toilet",
   "metadata": {},
   "outputs": [
    {
     "data": {
      "text/plain": [
       "[array(['India', 'Japan', 'US'], dtype=object)]"
      ]
     },
     "execution_count": 7,
     "metadata": {},
     "output_type": "execute_result"
    }
   ],
   "source": [
    "onehot_encoder.categories_"
   ]
  },
  {
   "cell_type": "markdown",
   "id": "competent-archives",
   "metadata": {},
   "source": [
    "- Karena jumlah negara nya 3 maka untuk setiap negaranya akan direpresentasikan dengan 3 digit\n",
    "- India akan direpresentasikan dengan bits 3 digit, dimana pada digit pertama nya akan bernilai 1\n",
    "- Japan akan direpresentasikan dengan bits 3 digit, dimana pada digit ke dua nya akan bernilai 1\n",
    "- US akan direpresentasikan dengan bits 3 digit, dimana pada digit ke tiga nya akan bernilai 1"
   ]
  },
  {
   "cell_type": "code",
   "execution_count": 8,
   "id": "structured-affair",
   "metadata": {},
   "outputs": [
    {
     "data": {
      "text/html": [
       "<div>\n",
       "<style scoped>\n",
       "    .dataframe tbody tr th:only-of-type {\n",
       "        vertical-align: middle;\n",
       "    }\n",
       "\n",
       "    .dataframe tbody tr th {\n",
       "        vertical-align: top;\n",
       "    }\n",
       "\n",
       "    .dataframe thead th {\n",
       "        text-align: right;\n",
       "    }\n",
       "</style>\n",
       "<table border=\"1\" class=\"dataframe\">\n",
       "  <thead>\n",
       "    <tr style=\"text-align: right;\">\n",
       "      <th></th>\n",
       "      <th>0</th>\n",
       "      <th>1</th>\n",
       "      <th>2</th>\n",
       "    </tr>\n",
       "  </thead>\n",
       "  <tbody>\n",
       "    <tr>\n",
       "      <th>0</th>\n",
       "      <td>1.0</td>\n",
       "      <td>0.0</td>\n",
       "      <td>0.0</td>\n",
       "    </tr>\n",
       "    <tr>\n",
       "      <th>1</th>\n",
       "      <td>0.0</td>\n",
       "      <td>0.0</td>\n",
       "      <td>1.0</td>\n",
       "    </tr>\n",
       "    <tr>\n",
       "      <th>2</th>\n",
       "      <td>0.0</td>\n",
       "      <td>1.0</td>\n",
       "      <td>0.0</td>\n",
       "    </tr>\n",
       "    <tr>\n",
       "      <th>3</th>\n",
       "      <td>0.0</td>\n",
       "      <td>0.0</td>\n",
       "      <td>1.0</td>\n",
       "    </tr>\n",
       "    <tr>\n",
       "      <th>4</th>\n",
       "      <td>0.0</td>\n",
       "      <td>1.0</td>\n",
       "      <td>0.0</td>\n",
       "    </tr>\n",
       "  </tbody>\n",
       "</table>\n",
       "</div>"
      ],
      "text/plain": [
       "     0    1    2\n",
       "0  1.0  0.0  0.0\n",
       "1  0.0  0.0  1.0\n",
       "2  0.0  1.0  0.0\n",
       "3  0.0  0.0  1.0\n",
       "4  0.0  1.0  0.0"
      ]
     },
     "execution_count": 8,
     "metadata": {},
     "output_type": "execute_result"
    }
   ],
   "source": [
    "df_onehot = pd.DataFrame(X, columns=[str(i) for i in range(X.shape[1])])\n",
    "df_onehot"
   ]
  },
  {
   "cell_type": "markdown",
   "id": "lonely-alias",
   "metadata": {},
   "source": [
    "- Membentuk suatu objek dataframe, dimana objeknya akan dibentuk dari sekumpulan nilai yang ditampung oleh X\n",
    "- Variabel df_onehot menampung Objek dataframe"
   ]
  },
  {
   "cell_type": "code",
   "execution_count": 9,
   "id": "outside-valve",
   "metadata": {},
   "outputs": [
    {
     "data": {
      "text/html": [
       "<div>\n",
       "<style scoped>\n",
       "    .dataframe tbody tr th:only-of-type {\n",
       "        vertical-align: middle;\n",
       "    }\n",
       "\n",
       "    .dataframe tbody tr th {\n",
       "        vertical-align: top;\n",
       "    }\n",
       "\n",
       "    .dataframe thead th {\n",
       "        text-align: right;\n",
       "    }\n",
       "</style>\n",
       "<table border=\"1\" class=\"dataframe\">\n",
       "  <thead>\n",
       "    <tr style=\"text-align: right;\">\n",
       "      <th></th>\n",
       "      <th>0</th>\n",
       "      <th>1</th>\n",
       "      <th>2</th>\n",
       "      <th>country</th>\n",
       "      <th>age</th>\n",
       "      <th>salary</th>\n",
       "    </tr>\n",
       "  </thead>\n",
       "  <tbody>\n",
       "    <tr>\n",
       "      <th>0</th>\n",
       "      <td>1.0</td>\n",
       "      <td>0.0</td>\n",
       "      <td>0.0</td>\n",
       "      <td>India</td>\n",
       "      <td>44</td>\n",
       "      <td>72000</td>\n",
       "    </tr>\n",
       "    <tr>\n",
       "      <th>1</th>\n",
       "      <td>0.0</td>\n",
       "      <td>0.0</td>\n",
       "      <td>1.0</td>\n",
       "      <td>US</td>\n",
       "      <td>34</td>\n",
       "      <td>65000</td>\n",
       "    </tr>\n",
       "    <tr>\n",
       "      <th>2</th>\n",
       "      <td>0.0</td>\n",
       "      <td>1.0</td>\n",
       "      <td>0.0</td>\n",
       "      <td>Japan</td>\n",
       "      <td>46</td>\n",
       "      <td>98000</td>\n",
       "    </tr>\n",
       "    <tr>\n",
       "      <th>3</th>\n",
       "      <td>0.0</td>\n",
       "      <td>0.0</td>\n",
       "      <td>1.0</td>\n",
       "      <td>US</td>\n",
       "      <td>35</td>\n",
       "      <td>45000</td>\n",
       "    </tr>\n",
       "    <tr>\n",
       "      <th>4</th>\n",
       "      <td>0.0</td>\n",
       "      <td>1.0</td>\n",
       "      <td>0.0</td>\n",
       "      <td>Japan</td>\n",
       "      <td>23</td>\n",
       "      <td>34000</td>\n",
       "    </tr>\n",
       "  </tbody>\n",
       "</table>\n",
       "</div>"
      ],
      "text/plain": [
       "     0    1    2 country  age  salary\n",
       "0  1.0  0.0  0.0   India   44   72000\n",
       "1  0.0  0.0  1.0      US   34   65000\n",
       "2  0.0  1.0  0.0   Japan   46   98000\n",
       "3  0.0  0.0  1.0      US   35   45000\n",
       "4  0.0  1.0  0.0   Japan   23   34000"
      ]
     },
     "execution_count": 9,
     "metadata": {},
     "output_type": "execute_result"
    }
   ],
   "source": [
    "df = pd.concat([df_onehot, df], axis=1)\n",
    "df"
   ]
  },
  {
   "cell_type": "markdown",
   "id": "advance-advertiser",
   "metadata": {},
   "source": [
    "- untuk menggabungkan df_oneshot dan df menggunakan pd.concat([df_onehot, df], axis=1)\n",
    "- axis = 1 karena proses concatnya akan dilakukan side by side\n",
    "- India direpresentasikan dengan 1 0 0\n",
    "- US direpresntasikan dengan 0 0 1\n",
    "- Japan direpresentasikan dengan 0 1 0"
   ]
  },
  {
   "cell_type": "code",
   "execution_count": 10,
   "id": "naughty-grant",
   "metadata": {},
   "outputs": [
    {
     "data": {
      "text/html": [
       "<div>\n",
       "<style scoped>\n",
       "    .dataframe tbody tr th:only-of-type {\n",
       "        vertical-align: middle;\n",
       "    }\n",
       "\n",
       "    .dataframe tbody tr th {\n",
       "        vertical-align: top;\n",
       "    }\n",
       "\n",
       "    .dataframe thead th {\n",
       "        text-align: right;\n",
       "    }\n",
       "</style>\n",
       "<table border=\"1\" class=\"dataframe\">\n",
       "  <thead>\n",
       "    <tr style=\"text-align: right;\">\n",
       "      <th></th>\n",
       "      <th>0</th>\n",
       "      <th>1</th>\n",
       "      <th>2</th>\n",
       "      <th>age</th>\n",
       "      <th>salary</th>\n",
       "    </tr>\n",
       "  </thead>\n",
       "  <tbody>\n",
       "    <tr>\n",
       "      <th>0</th>\n",
       "      <td>1.0</td>\n",
       "      <td>0.0</td>\n",
       "      <td>0.0</td>\n",
       "      <td>44</td>\n",
       "      <td>72000</td>\n",
       "    </tr>\n",
       "    <tr>\n",
       "      <th>1</th>\n",
       "      <td>0.0</td>\n",
       "      <td>0.0</td>\n",
       "      <td>1.0</td>\n",
       "      <td>34</td>\n",
       "      <td>65000</td>\n",
       "    </tr>\n",
       "    <tr>\n",
       "      <th>2</th>\n",
       "      <td>0.0</td>\n",
       "      <td>1.0</td>\n",
       "      <td>0.0</td>\n",
       "      <td>46</td>\n",
       "      <td>98000</td>\n",
       "    </tr>\n",
       "    <tr>\n",
       "      <th>3</th>\n",
       "      <td>0.0</td>\n",
       "      <td>0.0</td>\n",
       "      <td>1.0</td>\n",
       "      <td>35</td>\n",
       "      <td>45000</td>\n",
       "    </tr>\n",
       "    <tr>\n",
       "      <th>4</th>\n",
       "      <td>0.0</td>\n",
       "      <td>1.0</td>\n",
       "      <td>0.0</td>\n",
       "      <td>23</td>\n",
       "      <td>34000</td>\n",
       "    </tr>\n",
       "  </tbody>\n",
       "</table>\n",
       "</div>"
      ],
      "text/plain": [
       "     0    1    2  age  salary\n",
       "0  1.0  0.0  0.0   44   72000\n",
       "1  0.0  0.0  1.0   34   65000\n",
       "2  0.0  1.0  0.0   46   98000\n",
       "3  0.0  0.0  1.0   35   45000\n",
       "4  0.0  1.0  0.0   23   34000"
      ]
     },
     "execution_count": 10,
     "metadata": {},
     "output_type": "execute_result"
    }
   ],
   "source": [
    "df = df.drop(['country'], axis=1)\n",
    "df"
   ]
  },
  {
   "cell_type": "markdown",
   "id": "talented-inspection",
   "metadata": {},
   "source": [
    "df.drop(['country'], axis=1) untuk mengdrop kolom country"
   ]
  },
  {
   "cell_type": "markdown",
   "id": "coated-paradise",
   "metadata": {},
   "source": [
    "## Label Encoding vs One Hot Encoding"
   ]
  },
  {
   "cell_type": "markdown",
   "id": "secure-struggle",
   "metadata": {},
   "source": [
    "Kita menerapkan One Hot Encoding bila:\n",
    "\n",
    "- Nilai categorical adalah nominal\n",
    "- Jumlah kategori yang ada tidak terlalu banyak\n",
    "\n",
    "Kita menerapkan Label Encoding bila:\n",
    "\n",
    "- Nilai categorical adalah ordinal\n",
    "- Jumlah kategori yang ada relatif banyak"
   ]
  },
  {
   "cell_type": "code",
   "execution_count": null,
   "id": "swedish-curve",
   "metadata": {},
   "outputs": [],
   "source": []
  }
 ],
 "metadata": {
  "kernelspec": {
   "display_name": "Python 3",
   "language": "python",
   "name": "python3"
  },
  "language_info": {
   "codemirror_mode": {
    "name": "ipython",
    "version": 3
   },
   "file_extension": ".py",
   "mimetype": "text/x-python",
   "name": "python",
   "nbconvert_exporter": "python",
   "pygments_lexer": "ipython3",
   "version": "3.8.8"
  }
 },
 "nbformat": 4,
 "nbformat_minor": 5
}
