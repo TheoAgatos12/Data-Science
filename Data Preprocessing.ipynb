{
 "cells": [
  {
   "cell_type": "markdown",
   "id": "grave-bishop",
   "metadata": {},
   "source": [
    "# 04 Data Preprocessing dengan Scikit-Learn"
   ]
  },
  {
   "cell_type": "markdown",
   "id": "conditional-binding",
   "metadata": {},
   "source": [
    "## Sample Dataset"
   ]
  },
  {
   "cell_type": "code",
   "execution_count": 1,
   "id": "independent-platform",
   "metadata": {},
   "outputs": [
    {
     "data": {
      "text/plain": [
       "array([[ 2.1, -1.9,  5.5],\n",
       "       [-1.5,  2.4,  3.5],\n",
       "       [ 0.5, -7.9,  5.6],\n",
       "       [ 5.9,  2.3, -5.8]])"
      ]
     },
     "execution_count": 1,
     "metadata": {},
     "output_type": "execute_result"
    }
   ],
   "source": [
    "import numpy as np\n",
    "from sklearn import preprocessing\n",
    "\n",
    "sample_data = np.array([[2.1, -1.9, 5.5], \n",
    "                        [-1.5, 2.4, 3.5], \n",
    "                        [0.5, -7.9, 5.6],\n",
    "                        [5.9, 2.3, -5.8]])\n",
    "\n",
    "sample_data"
   ]
  },
  {
   "cell_type": "markdown",
   "id": "surface-press",
   "metadata": {},
   "source": [
    "- Terdapat 3 Baris\n",
    "- Masing - masing baris terdapat 3 features\n",
    "- Variabel sample_data menampung dataset"
   ]
  },
  {
   "cell_type": "code",
   "execution_count": 2,
   "id": "efficient-crazy",
   "metadata": {},
   "outputs": [
    {
     "data": {
      "text/plain": [
       "(4, 3)"
      ]
     },
     "execution_count": 2,
     "metadata": {},
     "output_type": "execute_result"
    }
   ],
   "source": [
    "sample_data.shape"
   ]
  },
  {
   "cell_type": "markdown",
   "id": "determined-worse",
   "metadata": {},
   "source": [
    "(4, 3) artinya terdapat 3 baris dan 4 kolom"
   ]
  },
  {
   "cell_type": "markdown",
   "id": "aggregate-gentleman",
   "metadata": {},
   "source": [
    "## Binarisation"
   ]
  },
  {
   "cell_type": "markdown",
   "id": "lightweight-madagascar",
   "metadata": {},
   "source": [
    "- Untuk menghasilkan suatu data yang terdiri dari 2 numerik saja yaitu 0 dan 1"
   ]
  },
  {
   "cell_type": "code",
   "execution_count": 3,
   "id": "stuffed-kansas",
   "metadata": {},
   "outputs": [
    {
     "data": {
      "text/plain": [
       "array([[ 2.1, -1.9,  5.5],\n",
       "       [-1.5,  2.4,  3.5],\n",
       "       [ 0.5, -7.9,  5.6],\n",
       "       [ 5.9,  2.3, -5.8]])"
      ]
     },
     "execution_count": 3,
     "metadata": {},
     "output_type": "execute_result"
    }
   ],
   "source": [
    "sample_data"
   ]
  },
  {
   "cell_type": "code",
   "execution_count": 4,
   "id": "floating-slovenia",
   "metadata": {},
   "outputs": [
    {
     "data": {
      "text/plain": [
       "array([[1., 0., 1.],\n",
       "       [0., 1., 1.],\n",
       "       [0., 0., 1.],\n",
       "       [1., 1., 0.]])"
      ]
     },
     "execution_count": 4,
     "metadata": {},
     "output_type": "execute_result"
    }
   ],
   "source": [
    "preprocessor = preprocessing.Binarizer(threshold=0.5)\n",
    "binarised_data = preprocessor.transform(sample_data)\n",
    "binarised_data"
   ]
  },
  {
   "cell_type": "markdown",
   "id": "cathedral-breach",
   "metadata": {},
   "source": [
    "- Variabel preprocessor menampung objek binarizer\n",
    "- Variabel binarised_data menampung hasil tranformasi\n",
    "- threshold=0.5 artinya setiap nilai yang lebih kecil atau sama dengan 0.5 akan dikonversikan menjadi nilai 0"
   ]
  },
  {
   "cell_type": "markdown",
   "id": "medieval-bench",
   "metadata": {},
   "source": [
    "## Scaling"
   ]
  },
  {
   "cell_type": "markdown",
   "id": "single-amino",
   "metadata": {},
   "source": [
    "- Untuk menghasilkan suatu data numerik yang berada dalam rentan skala tertentu"
   ]
  },
  {
   "cell_type": "code",
   "execution_count": 5,
   "id": "seasonal-generic",
   "metadata": {},
   "outputs": [
    {
     "data": {
      "text/plain": [
       "array([[ 2.1, -1.9,  5.5],\n",
       "       [-1.5,  2.4,  3.5],\n",
       "       [ 0.5, -7.9,  5.6],\n",
       "       [ 5.9,  2.3, -5.8]])"
      ]
     },
     "execution_count": 5,
     "metadata": {},
     "output_type": "execute_result"
    }
   ],
   "source": [
    "sample_data"
   ]
  },
  {
   "cell_type": "code",
   "execution_count": 6,
   "id": "solar-parking",
   "metadata": {},
   "outputs": [
    {
     "data": {
      "text/plain": [
       "array([[0.48648649, 0.58252427, 0.99122807],\n",
       "       [0.        , 1.        , 0.81578947],\n",
       "       [0.27027027, 0.        , 1.        ],\n",
       "       [1.        , 0.99029126, 0.        ]])"
      ]
     },
     "execution_count": 6,
     "metadata": {},
     "output_type": "execute_result"
    }
   ],
   "source": [
    "preprocessor = preprocessing.MinMaxScaler(feature_range=(0, 1))\n",
    "preprocessor.fit(sample_data)\n",
    "scaled_data = preprocessor.transform(sample_data)\n",
    "scaled_data"
   ]
  },
  {
   "cell_type": "markdown",
   "id": "present-iceland",
   "metadata": {},
   "source": [
    "- Nilai 0 akan mengindikasikan nilai terkecil dari skala yang baru\n",
    "- Nilai 1 akan mengindikasikan nilai terbesar dari skala yang baru\n",
    "- Variabel preprocessor untuk menampung objek scaler\n",
    "- Variabel scaled_data untuk menampung hasil tranformasi\n",
    "- Tujuan MinMaxScaler yaitu mengubah skala nilai terkecil dan terbesar dari dataset yang dimiliki ke skala tertentu"
   ]
  },
  {
   "cell_type": "code",
   "execution_count": 7,
   "id": "prepared-conflict",
   "metadata": {},
   "outputs": [
    {
     "data": {
      "text/plain": [
       "array([[0.48648649, 0.58252427, 0.99122807],\n",
       "       [0.        , 1.        , 0.81578947],\n",
       "       [0.27027027, 0.        , 1.        ],\n",
       "       [1.        , 0.99029126, 0.        ]])"
      ]
     },
     "execution_count": 7,
     "metadata": {},
     "output_type": "execute_result"
    }
   ],
   "source": [
    "scaled_data = preprocessor.fit_transform(sample_data)\n",
    "scaled_data"
   ]
  },
  {
   "cell_type": "markdown",
   "id": "impaired-advocate",
   "metadata": {},
   "source": [
    "Metod fit_tranform untuk menyatukan proses fiting dan proses tranformasi pada sample yang sama "
   ]
  },
  {
   "cell_type": "markdown",
   "id": "brown-roads",
   "metadata": {},
   "source": [
    "## L1 Normalisation: Least Absolute Deviations"
   ]
  },
  {
   "cell_type": "markdown",
   "id": "assured-timeline",
   "metadata": {},
   "source": [
    "- Untuk melakukan normalisasi terhadap data numerik"
   ]
  },
  {
   "cell_type": "markdown",
   "id": "experimental-torture",
   "metadata": {},
   "source": [
    "Referensi: https://en.wikipedia.org/wiki/Least_absolute_deviations"
   ]
  },
  {
   "cell_type": "code",
   "execution_count": 8,
   "id": "mediterranean-canada",
   "metadata": {},
   "outputs": [
    {
     "data": {
      "text/plain": [
       "array([[ 2.1, -1.9,  5.5],\n",
       "       [-1.5,  2.4,  3.5],\n",
       "       [ 0.5, -7.9,  5.6],\n",
       "       [ 5.9,  2.3, -5.8]])"
      ]
     },
     "execution_count": 8,
     "metadata": {},
     "output_type": "execute_result"
    }
   ],
   "source": [
    "sample_data"
   ]
  },
  {
   "cell_type": "code",
   "execution_count": 9,
   "id": "recorded-claim",
   "metadata": {},
   "outputs": [
    {
     "data": {
      "text/plain": [
       "array([[ 0.22105263, -0.2       ,  0.57894737],\n",
       "       [-0.2027027 ,  0.32432432,  0.47297297],\n",
       "       [ 0.03571429, -0.56428571,  0.4       ],\n",
       "       [ 0.42142857,  0.16428571, -0.41428571]])"
      ]
     },
     "execution_count": 9,
     "metadata": {},
     "output_type": "execute_result"
    }
   ],
   "source": [
    "l1_normalised_data = preprocessing.normalize(sample_data, norm='l1')\n",
    "l1_normalised_data"
   ]
  },
  {
   "cell_type": "markdown",
   "id": "round-organic",
   "metadata": {},
   "source": [
    "- preprocessing.normalize membutuhkan 2 parameter\n",
    "- Parameter pertama yaitu sample_data\n",
    "- Parameter kedua yaitu norm\n",
    "- Normalisasi l1 akan berasosiasi dengan normalisasi yang menerapkan least absolute deviations\n",
    "- Variabel l1_normalised_data untuk menampung data yang sudah dinormalisasi"
   ]
  },
  {
   "cell_type": "markdown",
   "id": "afraid-distributor",
   "metadata": {},
   "source": [
    "## L2 Normalisation: Least Squares"
   ]
  },
  {
   "cell_type": "markdown",
   "id": "competent-special",
   "metadata": {},
   "source": [
    "Referensi: https://en.wikipedia.org/wiki/Least_squares"
   ]
  },
  {
   "cell_type": "code",
   "execution_count": 10,
   "id": "independent-merit",
   "metadata": {},
   "outputs": [
    {
     "data": {
      "text/plain": [
       "array([[ 2.1, -1.9,  5.5],\n",
       "       [-1.5,  2.4,  3.5],\n",
       "       [ 0.5, -7.9,  5.6],\n",
       "       [ 5.9,  2.3, -5.8]])"
      ]
     },
     "execution_count": 10,
     "metadata": {},
     "output_type": "execute_result"
    }
   ],
   "source": [
    "sample_data"
   ]
  },
  {
   "cell_type": "code",
   "execution_count": 11,
   "id": "renewable-seafood",
   "metadata": {},
   "outputs": [
    {
     "data": {
      "text/plain": [
       "array([[ 0.33946114, -0.30713151,  0.88906489],\n",
       "       [-0.33325106,  0.53320169,  0.7775858 ],\n",
       "       [ 0.05156558, -0.81473612,  0.57753446],\n",
       "       [ 0.68706914,  0.26784051, -0.6754239 ]])"
      ]
     },
     "execution_count": 11,
     "metadata": {},
     "output_type": "execute_result"
    }
   ],
   "source": [
    "l2_normalised_data = preprocessing.normalize(sample_data, norm='l2')\n",
    "l2_normalised_data"
   ]
  },
  {
   "cell_type": "markdown",
   "id": "outstanding-conspiracy",
   "metadata": {},
   "source": [
    "- preprocessing.normalize membutuhkan 2 parameter\n",
    "- Parameter pertama yaitu sample_data\n",
    "- Parameter kedua yaitu norm\n",
    "- Normalisasi l2 akan berasosiasi dengan normalisasi yang menerapkan least squares\n",
    "- Variabel l2_normalised_data untuk menampung data yang sudah dinormalisasi"
   ]
  },
  {
   "cell_type": "code",
   "execution_count": null,
   "id": "amateur-stupid",
   "metadata": {},
   "outputs": [],
   "source": []
  }
 ],
 "metadata": {
  "kernelspec": {
   "display_name": "Python 3",
   "language": "python",
   "name": "python3"
  },
  "language_info": {
   "codemirror_mode": {
    "name": "ipython",
    "version": 3
   },
   "file_extension": ".py",
   "mimetype": "text/x-python",
   "name": "python",
   "nbconvert_exporter": "python",
   "pygments_lexer": "ipython3",
   "version": "3.8.8"
  }
 },
 "nbformat": 4,
 "nbformat_minor": 5
}
